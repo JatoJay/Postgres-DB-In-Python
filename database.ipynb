{
 "cells": [
  {
   "attachments": {},
   "cell_type": "markdown",
   "metadata": {},
   "source": [
    "## INTRODUCTION\n",
    "\n",
    "The purpose of this project is to build a postgress databse with all the basic functionalities based on best design practices."
   ]
  },
  {
   "cell_type": "code",
   "execution_count": 53,
   "metadata": {},
   "outputs": [],
   "source": [
    "import psycopg2\n",
    "conn = psycopg2.connect(dbname=\"crime_db\")\n",
    "# Creating a database cannot be part of a transaction block. herefore, to create a database, \n",
    "# we need to tell Postgres to immediately commit changes and not create transaction blocks. \n",
    "# We can do this by setting the connection.autocommit attribute of the connection to True\n",
    "conn.autocommit=True"
   ]
  },
  {
   "cell_type": "code",
   "execution_count": null,
   "metadata": {},
   "outputs": [],
   "source": [
    "cursor = conn.cursor()\n",
    "\n",
    "cursor.execute(\"CREATE DATABASE crime_db1;\")\n",
    "conn.autocommit=False"
   ]
  },
  {
   "cell_type": "code",
   "execution_count": 43,
   "metadata": {},
   "outputs": [],
   "source": [
    "conn = psycopg2.connect(dbname=\"crime_db1\")"
   ]
  },
  {
   "cell_type": "code",
   "execution_count": 56,
   "metadata": {},
   "outputs": [],
   "source": [
    "# create crimes schema\n",
    "cursor.execute(\"CREATE SCHEMA crimes;\")"
   ]
  },
  {
   "attachments": {},
   "cell_type": "markdown",
   "metadata": {},
   "source": [
    "### Obtaining column names: obtain the header row and assign it to the col_header & the first data row to first_row variables.\n"
   ]
  },
  {
   "cell_type": "code",
   "execution_count": 34,
   "metadata": {},
   "outputs": [
    {
     "data": {
      "text/plain": [
       "['incident_number',\n",
       " 'offense_code',\n",
       " 'description',\n",
       " 'date',\n",
       " 'day_of_the_week',\n",
       " 'lat',\n",
       " 'long']"
      ]
     },
     "execution_count": 34,
     "metadata": {},
     "output_type": "execute_result"
    }
   ],
   "source": [
    "import csv\n",
    "with open('boston.csv') as file:\n",
    "    reader  = csv.reader(file)\n",
    "    col_headers = next(reader)\n",
    "    first_row = next(reader)\n",
    "\n",
    "col_headers"
   ]
  },
  {
   "cell_type": "code",
   "execution_count": 35,
   "metadata": {},
   "outputs": [
    {
     "data": {
      "text/plain": [
       "['1',\n",
       " '619',\n",
       " 'LARCENY ALL OTHERS',\n",
       " '2018-09-02',\n",
       " 'Sunday',\n",
       " '42.35779134',\n",
       " '-71.13937053']"
      ]
     },
     "execution_count": 35,
     "metadata": {},
     "output_type": "execute_result"
    }
   ],
   "source": [
    "first_row"
   ]
  },
  {
   "attachments": {},
   "cell_type": "markdown",
   "metadata": {},
   "source": [
    "# Create a function for analyzing columns\n",
    "Create a function to get unique column values. This function is helpful in the following ways:\n",
    "\n",
    "* Checking whether an enumerated datatype might be a good choice for representing a column\n",
    "* Computing the maximum length of any text-like column to select appropriate sizes for VARCHAR columns\n"
   ]
  },
  {
   "cell_type": "code",
   "execution_count": 36,
   "metadata": {},
   "outputs": [
    {
     "name": "stdout",
     "output_type": "stream",
     "text": [
      "incident_number\t298329\n",
      "offense_code\t219\n",
      "description\t239\n",
      "date\t1177\n",
      "day_of_the_week\t7\n",
      "lat\t18177\n",
      "long\t18177\n"
     ]
    }
   ],
   "source": [
    "def get_col_set(csv_file, col_index):\n",
    "    import csv\n",
    "    values = set()\n",
    "    with open(csv_file, 'r') as f:\n",
    "        next(f)\n",
    "        reader = csv.reader(f)\n",
    "        for row in reader:\n",
    "            values.add(row[col_index])\n",
    "        return values\n",
    "    \n",
    "for i in range(len(col_headers)):\n",
    "    values = get_col_set('boston.csv', i)\n",
    "    print(col_headers[i], len(values), sep='\\t')"
   ]
  },
  {
   "attachments": {},
   "cell_type": "markdown",
   "metadata": {},
   "source": [
    "## Analyzing maximum length of description column"
   ]
  },
  {
   "cell_type": "code",
   "execution_count": 37,
   "metadata": {},
   "outputs": [
    {
     "name": "stdout",
     "output_type": "stream",
     "text": [
      "['incident_number', 'offense_code', 'description', 'date', 'day_of_the_week', 'lat', 'long']\n",
      "['1', '619', 'LARCENY ALL OTHERS', '2018-09-02', 'Sunday', '42.35779134', '-71.13937053']\n"
     ]
    }
   ],
   "source": [
    "print(col_headers)\n",
    "print(first_row)"
   ]
  },
  {
   "cell_type": "code",
   "execution_count": 38,
   "metadata": {},
   "outputs": [
    {
     "name": "stdout",
     "output_type": "stream",
     "text": [
      "4\n"
     ]
    }
   ],
   "source": [
    "offense_code = get_col_set('boston.csv', 1)\n",
    "max_len = 0\n",
    "\n",
    "for offense in offense_code:\n",
    "    max_len = max(max_len, len(offense))\n",
    "\n",
    "print(max_len)"
   ]
  },
  {
   "cell_type": "code",
   "execution_count": 39,
   "metadata": {},
   "outputs": [
    {
     "name": "stdout",
     "output_type": "stream",
     "text": [
      "58\n"
     ]
    }
   ],
   "source": [
    "description = get_col_set('boston.csv', 2)\n",
    "max_len = 0\n",
    "\n",
    "for description in description:\n",
    "    max_len = max(max_len, len(description))\n",
    "\n",
    "print(max_len)"
   ]
  },
  {
   "attachments": {},
   "cell_type": "markdown",
   "metadata": {},
   "source": [
    "## Creating a Table\n",
    "\n",
    "* We'll create an enumerated data type for week day column since it has limited set of values (Monday to Sunday)\n",
    "* Offense_code and description columns have 59 and 58 maximum lenght of values. For that reason, we'll limit the columns size to a datatype of Vachar(100).\n",
    "* The lat and long columns holds lost ofprecision. On that note, we'll use the decimal data type\n",
    "* The incident number will take an integer data type and will be used as the PRIMARY KEY\n",
    "* Offense_code also takes an integer value\n",
    "* Finally, we shall repressent the date column as a Date datatype"
   ]
  },
  {
   "cell_type": "code",
   "execution_count": 59,
   "metadata": {},
   "outputs": [],
   "source": [
    "\n",
    "cursor.execute(\"\"\"\n",
    "            CREATE TYPE weekdayss AS ENUM('Monday', 'Tuesday', 'Wednesday', 'Thursday', 'Friday', 'Saturday', 'Sunday');\n",
    "\n",
    "\"\"\")\n",
    "cursor.execute(\"\"\"\n",
    "    CREATE TABLE crimes.boston_crimes(\n",
    "    incident_number INTEGER PRIMARY KEY,\n",
    "    offense_code INTEGER,\n",
    "    description VARCHAR(100),\n",
    "    date DATE,\n",
    "    day_of_the_week weekdayss,\n",
    "    lat DECIMAL,\n",
    "    long DECIMAL\n",
    "\n",
    ");\n",
    "\"\"\")\n"
   ]
  },
  {
   "attachments": {},
   "cell_type": "markdown",
   "metadata": {},
   "source": [
    "## Load the Data into the Table\n",
    "\n",
    "The copy_expert function is the fastest method for loading a csv file into a table"
   ]
  },
  {
   "cell_type": "code",
   "execution_count": 62,
   "metadata": {},
   "outputs": [
    {
     "name": "stdout",
     "output_type": "stream",
     "text": [
      "298329\n"
     ]
    }
   ],
   "source": [
    "# load data from boston.csv into the boston_crimes table in 'crimes' schema\n",
    "with open(\"boston.csv\") as f:\n",
    "    cursor.copy_expert(\"COPY crimes.boston_crimes FROM STDIN WITH CSV HEADER;\", f)\n",
    "\n",
    "#verify that the data is successfullly loaded\n",
    "\n",
    "cursor.execute(\"SELECT * FROM crimes.boston_crimes;\")\n",
    "print(len(cursor.fetchall()))"
   ]
  },
  {
   "attachments": {},
   "cell_type": "markdown",
   "metadata": {},
   "source": [
    "We revoke all previledges of the public group on the public schema so as to disbale user from inheriting previledges on that schema. By doing this, we don't need to revoke previledges on newly created users."
   ]
  },
  {
   "cell_type": "code",
   "execution_count": 67,
   "metadata": {},
   "outputs": [],
   "source": [
    "## Revoke Public Priviledges\n",
    "cursor.execute(\"REVOKE ALL ON SCHEMA public FROM public;\")\n",
    "\n",
    "cursor.execute(\"REVOKE ALL ON DATABASE crime_db1 FROM public;\")"
   ]
  },
  {
   "attachments": {},
   "cell_type": "markdown",
   "metadata": {},
   "source": [
    "## Creating Read-Only User Group\n",
    "Let's create a read-write group with **NOLOGIN** since it's a group and not a user such that users under this group will not have automatic login access to tables.\n",
    "\n",
    "We'll then grant SELECT previledge to the read-only user\n",
    "\n",
    "We also grant CONNECT previledge to allow users under this group connct to the crime_db databse and use the crimes schema"
   ]
  },
  {
   "cell_type": "code",
   "execution_count": null,
   "metadata": {},
   "outputs": [],
   "source": [
    "# create a readonly group with NOLOGIN\n",
    "cursor.execute(\"CREATE GROUP readonly NOLOGIN;\")\n",
    "#  grant conect previledge on database to group\n",
    "cursor.execute(\"GRANT CONNECT ON DATABASE crime_db TO readonly;\")\n",
    "# grant usage on schema to group\n",
    "cursor.execute(\"GRANT USAGE ON SCHEMA crimes TO readonly;\")\n",
    "# grant basic previledges on all tables in schema to group\n",
    "cursor.execute(\"GRANT SELECT ON ALL TABLES IN SCHEMA crimes TO readonly;\")"
   ]
  },
  {
   "attachments": {},
   "cell_type": "markdown",
   "metadata": {},
   "source": [
    "## Creating Read-Write Group\n",
    "\n",
    "We create a read-write group with NOLOGIN for the same reason as stated above.\n",
    "\n",
    "This user however, has the previledges to connect to the crimes_db databse and alter the tables under the crimes schema "
   ]
  },
  {
   "cell_type": "code",
   "execution_count": 71,
   "metadata": {},
   "outputs": [],
   "source": [
    "# create a readonly group with NOLOGIN\n",
    "cursor.execute(\"CREATE GROUP readwrite NOLOGIN;\")\n",
    "#  grant conect previledge on database to group\n",
    "cursor.execute(\"GRANT CONNECT ON DATABASE crime_db TO readwrite;\")\n",
    "# grant usage on schema to group\n",
    "cursor.execute(\"GRANT USAGE ON SCHEMA crimes TO readwrite;\")\n",
    "# grant basic previledges on all tables in schema to group\n",
    "cursor.execute(\"GRANT SELECT, INSERT, UPDATE, DELETE ON ALL TABLES IN SCHEMA crimes TO readwrite;\")"
   ]
  },
  {
   "attachments": {},
   "cell_type": "markdown",
   "metadata": {},
   "source": [
    "## Creating users for each group\n",
    "\n",
    "We'll create a user named data_analyst with a password and assign into readonly group\n",
    "\n",
    "& a data_scienctist user with a password and assign it ot readwrite group"
   ]
  },
  {
   "cell_type": "code",
   "execution_count": 72,
   "metadata": {},
   "outputs": [],
   "source": [
    "cursor.execute(\"CREATE USER data_analyst WITH PASSWORD 'secret1';\")\n",
    "cursor.execute(\"GRANT readonly TO data_analyst;\")\n",
    "\n",
    "cursor.execute(\"CREATE USER data_scienctist WITH PASSWORD 'secret2';\")\n",
    "cursor.execute(\"GRANT readwrite TO data_scienctist;\")"
   ]
  },
  {
   "attachments": {},
   "cell_type": "markdown",
   "metadata": {},
   "source": [
    "## Test The Database\n",
    "Let's test our dartabase to verify that previledges are set accordingly as specified"
   ]
  },
  {
   "cell_type": "code",
   "execution_count": 101,
   "metadata": {},
   "outputs": [],
   "source": [
    "#Let's close the connection & initiate a new connection\n",
    "conn.close()"
   ]
  },
  {
   "cell_type": "code",
   "execution_count": 114,
   "metadata": {},
   "outputs": [],
   "source": [
    "conn = psycopg2.connect(dbname='crime_db1', user='jay')\n",
    "cursor = conn.cursor()"
   ]
  },
  {
   "cell_type": "code",
   "execution_count": 108,
   "metadata": {},
   "outputs": [
    {
     "name": "stdout",
     "output_type": "stream",
     "text": [
      "('readonly', False, False, False, False)\n",
      "('readwrite', False, False, False, False)\n",
      "('data_analyst', False, False, False, True)\n",
      "('data_scienctist', False, False, False, True)\n",
      "\n"
     ]
    }
   ],
   "source": [
    "# Check users and groups.\n",
    "cursor.execute(\"\"\"\n",
    "    SELECT rolname, rolsuper, rolcreaterole, rolcreatedb, rolcanlogin FROM pg_roles\n",
    "    WHERE rolname IN ('readonly', 'readwrite', 'data_analyst', 'data_scienctist');\n",
    "\"\"\")\n",
    "for user in cursor:\n",
    "    print(user)\n",
    "print()"
   ]
  },
  {
   "cell_type": "code",
   "execution_count": null,
   "metadata": {},
   "outputs": [],
   "source": [
    "cursor.execute(\"\"\"\n",
    "    SELECT *\n",
    "    FROM information_schema.table_previledges\n",
    "    WHERE grantee IN ('readonly', 'readwrite');\n",
    "\"\"\")\n",
    "               \n",
    "for user in cursor:\n",
    "    print(user)\n",
    "conn.close()"
   ]
  }
 ],
 "metadata": {
  "kernelspec": {
   "display_name": "Python 3",
   "language": "python",
   "name": "python3"
  },
  "language_info": {
   "codemirror_mode": {
    "name": "ipython",
    "version": 3
   },
   "file_extension": ".py",
   "mimetype": "text/x-python",
   "name": "python",
   "nbconvert_exporter": "python",
   "pygments_lexer": "ipython3",
   "version": "3.9.16"
  },
  "orig_nbformat": 4
 },
 "nbformat": 4,
 "nbformat_minor": 2
}
